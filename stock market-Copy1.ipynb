{
 "cells": [
  {
   "cell_type": "code",
   "execution_count": 3,
   "id": "70a6dbd0",
   "metadata": {},
   "outputs": [],
   "source": [
    "import pandas as pd\n",
    "import numpy as np\n",
    "import os\n",
    "import matplotlib.pyplot as plt\n",
    "import seaborn as sns"
   ]
  },
  {
   "cell_type": "code",
   "execution_count": 4,
   "id": "5d1da13e",
   "metadata": {},
   "outputs": [
    {
     "data": {
      "text/html": [
       "<div>\n",
       "<style scoped>\n",
       "    .dataframe tbody tr th:only-of-type {\n",
       "        vertical-align: middle;\n",
       "    }\n",
       "\n",
       "    .dataframe tbody tr th {\n",
       "        vertical-align: top;\n",
       "    }\n",
       "\n",
       "    .dataframe thead th {\n",
       "        text-align: right;\n",
       "    }\n",
       "</style>\n",
       "<table border=\"1\" class=\"dataframe\">\n",
       "  <thead>\n",
       "    <tr style=\"text-align: right;\">\n",
       "      <th></th>\n",
       "      <th>Innamed</th>\n",
       "      <th>symbol</th>\n",
       "      <th>date</th>\n",
       "      <th>close</th>\n",
       "      <th>high</th>\n",
       "      <th>low</th>\n",
       "      <th>open</th>\n",
       "      <th>volume</th>\n",
       "      <th>adjclose</th>\n",
       "      <th>adjhigh</th>\n",
       "      <th>adjlow</th>\n",
       "      <th>adjopen</th>\n",
       "      <th>adjvolume</th>\n",
       "      <th>divcash</th>\n",
       "      <th>splitfactor</th>\n",
       "    </tr>\n",
       "  </thead>\n",
       "  <tbody>\n",
       "    <tr>\n",
       "      <th>0</th>\n",
       "      <td>0</td>\n",
       "      <td>Abc</td>\n",
       "      <td>23-09-2022</td>\n",
       "      <td>132.045</td>\n",
       "      <td>130.26</td>\n",
       "      <td>130.05</td>\n",
       "      <td>130.34</td>\n",
       "      <td>45833246</td>\n",
       "      <td>121.68754</td>\n",
       "      <td>121.96740</td>\n",
       "      <td>119.8976</td>\n",
       "      <td>120.1112</td>\n",
       "      <td>45833246</td>\n",
       "      <td>0</td>\n",
       "      <td>1</td>\n",
       "    </tr>\n",
       "    <tr>\n",
       "      <th>1</th>\n",
       "      <td>1</td>\n",
       "      <td>Abc</td>\n",
       "      <td>24-09-2022</td>\n",
       "      <td>131.780</td>\n",
       "      <td>131.96</td>\n",
       "      <td>131.86</td>\n",
       "      <td>131.86</td>\n",
       "      <td>30733309</td>\n",
       "      <td>121.87560</td>\n",
       "      <td>121.89460</td>\n",
       "      <td>120.8465</td>\n",
       "      <td>121.5342</td>\n",
       "      <td>30733309</td>\n",
       "      <td>0</td>\n",
       "      <td>1</td>\n",
       "    </tr>\n",
       "    <tr>\n",
       "      <th>2</th>\n",
       "      <td>2</td>\n",
       "      <td>Abc</td>\n",
       "      <td>25-09-2022</td>\n",
       "      <td>130.280</td>\n",
       "      <td>131.86</td>\n",
       "      <td>129.90</td>\n",
       "      <td>131.23</td>\n",
       "      <td>50884452</td>\n",
       "      <td>120.67540</td>\n",
       "      <td>121.34520</td>\n",
       "      <td>120.5643</td>\n",
       "      <td>120.9325</td>\n",
       "      <td>50884452</td>\n",
       "      <td>0</td>\n",
       "      <td>1</td>\n",
       "    </tr>\n",
       "    <tr>\n",
       "      <th>3</th>\n",
       "      <td>3</td>\n",
       "      <td>Abc</td>\n",
       "      <td>26-09-2022</td>\n",
       "      <td>130.535</td>\n",
       "      <td>131.59</td>\n",
       "      <td>130.05</td>\n",
       "      <td>131.05</td>\n",
       "      <td>32112797</td>\n",
       "      <td>120.07560</td>\n",
       "      <td>121.68754</td>\n",
       "      <td>119.4567</td>\n",
       "      <td>120.9076</td>\n",
       "      <td>32112797</td>\n",
       "      <td>0</td>\n",
       "      <td>1</td>\n",
       "    </tr>\n",
       "    <tr>\n",
       "      <th>4</th>\n",
       "      <td>4</td>\n",
       "      <td>Abc</td>\n",
       "      <td>27-09-2022</td>\n",
       "      <td>130.655</td>\n",
       "      <td>130.66</td>\n",
       "      <td>129.36</td>\n",
       "      <td>129.86</td>\n",
       "      <td>33667627</td>\n",
       "      <td>119.45670</td>\n",
       "      <td>120.89460</td>\n",
       "      <td>119.1564</td>\n",
       "      <td>119.6765</td>\n",
       "      <td>33667627</td>\n",
       "      <td>0</td>\n",
       "      <td>1</td>\n",
       "    </tr>\n",
       "  </tbody>\n",
       "</table>\n",
       "</div>"
      ],
      "text/plain": [
       "   Innamed symbol        date    close   high      low   open     volume  \\\n",
       "0        0    Abc  23-09-2022  132.045  130.26  130.05  130.34  45833246   \n",
       "1        1    Abc  24-09-2022  131.780  131.96  131.86  131.86  30733309   \n",
       "2        2    Abc  25-09-2022  130.280  131.86  129.90  131.23  50884452   \n",
       "3        3    Abc  26-09-2022  130.535  131.59  130.05  131.05  32112797   \n",
       "4        4    Abc  27-09-2022  130.655  130.66  129.36  129.86  33667627   \n",
       "\n",
       "    adjclose    adjhigh    adjlow   adjopen  adjvolume  divcash  splitfactor  \n",
       "0  121.68754  121.96740  119.8976  120.1112   45833246        0            1  \n",
       "1  121.87560  121.89460  120.8465  121.5342   30733309        0            1  \n",
       "2  120.67540  121.34520  120.5643  120.9325   50884452        0            1  \n",
       "3  120.07560  121.68754  119.4567  120.9076   32112797        0            1  \n",
       "4  119.45670  120.89460  119.1564  119.6765   33667627        0            1  "
      ]
     },
     "execution_count": 4,
     "metadata": {},
     "output_type": "execute_result"
    }
   ],
   "source": [
    "df = pd.read_csv(\"stock.csv\")\n",
    "df.head()"
   ]
  },
  {
   "cell_type": "code",
   "execution_count": 5,
   "id": "2ed0d1bd",
   "metadata": {},
   "outputs": [
    {
     "data": {
      "text/plain": [
       "0    132.045\n",
       "1    131.780\n",
       "2    130.280\n",
       "3    130.535\n",
       "4    130.655\n",
       "Name: close, dtype: float64"
      ]
     },
     "execution_count": 5,
     "metadata": {},
     "output_type": "execute_result"
    }
   ],
   "source": [
    "df1 = df.reset_index()['close']\n",
    "df1"
   ]
  },
  {
   "cell_type": "code",
   "execution_count": 6,
   "id": "302af903",
   "metadata": {},
   "outputs": [
    {
     "data": {
      "text/plain": [
       "[<matplotlib.lines.Line2D at 0x157a19fa280>]"
      ]
     },
     "execution_count": 6,
     "metadata": {},
     "output_type": "execute_result"
    },
    {
     "data": {
      "image/png": "[encoded data removed]",
      "text/plain": [
       "<Figure size 432x288 with 1 Axes>"
      ]
     },
     "metadata": {
      "needs_background": "light"
     },
     "output_type": "display_data"
    }
   ],
   "source": [
    "import matplotlib.pyplot as plt\n",
    "plt.plot(df1)"
   ]
  },
  {
   "cell_type": "code",
   "execution_count": 8,
   "id": "5ea5f125",
   "metadata": {},
   "outputs": [
    {
     "data": {
      "text/plain": [
       "0    132.045\n",
       "1    131.780\n",
       "2    130.280\n",
       "3    130.535\n",
       "4    130.655\n",
       "Name: close, dtype: float64"
      ]
     },
     "execution_count": 8,
     "metadata": {},
     "output_type": "execute_result"
    }
   ],
   "source": [
    "import numpy as np\n",
    "df1"
   ]
  },
  {
   "cell_type": "code",
   "execution_count": 9,
   "id": "ec743f06",
   "metadata": {},
   "outputs": [],
   "source": [
    "from sklearn.preprocessing import MinMaxScaler\n",
    "scaler=MinMaxScaler(feature_range=(0,1))\n",
    "df1=scaler.fit_transform(np.array(df1).reshape(-1,1))"
   ]
  },
  {
   "cell_type": "code",
   "execution_count": 10,
   "id": "49c706e5",
   "metadata": {},
   "outputs": [
    {
     "name": "stdout",
     "output_type": "stream",
     "text": [
      "[[1.        ]\n",
      " [0.84985836]\n",
      " [0.        ]\n",
      " [0.14447592]\n",
      " [0.21246459]]\n"
     ]
    }
   ],
   "source": [
    "print(df1)\n"
   ]
  },
  {
   "cell_type": "code",
   "execution_count": 11,
   "id": "b73d0398",
   "metadata": {},
   "outputs": [],
   "source": [
    "training_size=int(len(df1)*0.65)\n",
    "test_size=len(df1)-training_size\n",
    "train_data,test_data=df1[0:training_size,:],df1[training_size:len(df1),:1]"
   ]
  },
  {
   "cell_type": "code",
   "execution_count": 12,
   "id": "e56b9a85",
   "metadata": {},
   "outputs": [
    {
     "data": {
      "text/plain": [
       "(3, 2)"
      ]
     },
     "execution_count": 12,
     "metadata": {},
     "output_type": "execute_result"
    }
   ],
   "source": [
    "training_size,test_size"
   ]
  },
  {
   "cell_type": "code",
   "execution_count": 13,
   "id": "b3b39888",
   "metadata": {},
   "outputs": [
    {
     "data": {
      "text/plain": [
       "array([[1.        ],\n",
       "       [0.84985836],\n",
       "       [0.        ]])"
      ]
     },
     "execution_count": 13,
     "metadata": {},
     "output_type": "execute_result"
    }
   ],
   "source": [
    "train_data"
   ]
  },
  {
   "cell_type": "code",
   "execution_count": 14,
   "id": "a8f8d71f",
   "metadata": {},
   "outputs": [],
   "source": [
    "import numpy\n",
    "# convert an array of values into a dataset matrix\n",
    "def create_dataset(dataset, time_step=1):\n",
    "\tdataX, dataY = [], []\n",
    "\tfor i in range(len(dataset)-time_step-1):\n",
    "\t\ta = dataset[i:(i+time_step), 0]   ###i=0, 0,1,2,3-----99   100 \n",
    "\t\tdataX.append(a)\n",
    "\t\tdataY.append(dataset[i + time_step, 0])\n",
    "\treturn numpy.array(dataX), numpy.array(dataY)\n"
   ]
  },
  {
   "cell_type": "code",
   "execution_count": 15,
   "id": "bb6f5bec",
   "metadata": {},
   "outputs": [],
   "source": [
    "time_step = 100\n",
    "X_train, y_train = create_dataset(train_data, time_step)\n",
    "X_test, ytest = create_dataset(test_data, time_step)"
   ]
  },
  {
   "cell_type": "code",
   "execution_count": 15,
   "id": "1e300f33",
   "metadata": {},
   "outputs": [
    {
     "name": "stdout",
     "output_type": "stream",
     "text": [
      "(0,)\n",
      "(0,)\n"
     ]
    },
    {
     "data": {
      "text/plain": [
       "(None, None)"
      ]
     },
     "execution_count": 15,
     "metadata": {},
     "output_type": "execute_result"
    }
   ],
   "source": [
    "print(X_train.shape), print(y_train.shape)"
   ]
  },
  {
   "cell_type": "code",
   "execution_count": 16,
   "id": "18513028",
   "metadata": {},
   "outputs": [
    {
     "name": "stdout",
     "output_type": "stream",
     "text": [
      "(0,)\n",
      "(0,)\n"
     ]
    },
    {
     "data": {
      "text/plain": [
       "(None, None)"
      ]
     },
     "execution_count": 16,
     "metadata": {},
     "output_type": "execute_result"
    }
   ],
   "source": [
    "print(X_test.shape), print(ytest.shape)\n"
   ]
  },
  {
   "cell_type": "code",
   "execution_count": 18,
   "id": "df9f24b0",
   "metadata": {},
   "outputs": [
    {
     "ename": "NameError",
     "evalue": "name 'model' is not defined",
     "output_type": "error",
     "traceback": [
      "\u001b[1;31m---------------------------------------------------------------------------\u001b[0m",
      "\u001b[1;31mNameError\u001b[0m                                 Traceback (most recent call last)",
      "Input \u001b[1;32mIn [18]\u001b[0m, in \u001b[0;36m<cell line: 1>\u001b[1;34m()\u001b[0m\n\u001b[1;32m----> 1\u001b[0m \u001b[43mmodel\u001b[49m\u001b[38;5;241m.\u001b[39msummary()\n",
      "\u001b[1;31mNameError\u001b[0m: name 'model' is not defined"
     ]
    }
   ],
   "source": [
    "model.summary()"
   ]
  },
  {
   "cell_type": "code",
   "execution_count": null,
   "id": "fe5631bf",
   "metadata": {},
   "outputs": [],
   "source": []
  }
 ],
 "metadata": {
  "kernelspec": {
   "display_name": "Python 3 (ipykernel)",
   "language": "python",
   "name": "python3"
  },
  "language_info": {
   "codemirror_mode": {
    "name": "ipython",
    "version": 3
   },
   "file_extension": ".py",
   "mimetype": "text/x-python",
   "name": "python",
   "nbconvert_exporter": "python",
   "pygments_lexer": "ipython3",
   "version": "3.9.12"
  }
 },
 "nbformat": 4,
 "nbformat_minor": 5
}
